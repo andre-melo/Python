{
 "cells": [
  {
   "cell_type": "code",
   "execution_count": 68,
   "metadata": {},
   "outputs": [
    {
     "data": {
      "text/plain": [
       "'\\nExercicio\\n\\nNa expressao abaixo:\\n    \\nDados de acesso do cliente Universidade dos Dados\\n01/02/2017 \"3.878.00\"\\n02/02/2017 \"6.088.00\"\\n03/02/2017 \"645.00\"\\n04/02/2017 \"10.876.00\"\\n\\nNecessitamos do primeiro valor de acessos 3.878\\narmazene o valor em uma variável e imprima.\\n'"
      ]
     },
     "execution_count": 68,
     "metadata": {},
     "output_type": "execute_result"
    }
   ],
   "source": [
    "\"\"\"\n",
    "Exercicio\n",
    "\n",
    "Na expressao abaixo:\n",
    "    \n",
    "Dados de acesso do cliente Universidade dos Dados\n",
    "01/02/2017 \"3.878.00\"\n",
    "02/02/2017 \"6.088.00\"\n",
    "03/02/2017 \"645.00\"\n",
    "04/02/2017 \"10.876.00\"\n",
    "\n",
    "Necessitamos do primeiro valor de acessos 3.878\n",
    "armazene o valor em uma variável e imprima.\n",
    "\"\"\""
   ]
  },
  {
   "cell_type": "code",
   "execution_count": 69,
   "metadata": {},
   "outputs": [
    {
     "name": "stdout",
     "output_type": "stream",
     "text": [
      "Dados de acesso do cliente Universidade dos Dados\n",
      "01/02/2017 \"3345.878.00\" \n",
      "02/02/2017 \"6.088.00\" \n",
      "03/02/2017 \"645.00\" \n",
      "04/02/2017 \"10.876.00\"\n"
     ]
    }
   ],
   "source": [
    "expr = '''Dados de acesso do cliente Universidade dos Dados\n",
    "01/02/2017 \"3345.878.00\" \n",
    "02/02/2017 \"6.088.00\" \n",
    "03/02/2017 \"645.00\" \n",
    "04/02/2017 \"10.876.00\"'''\n",
    "\n",
    "print(expr)"
   ]
  },
  {
   "cell_type": "code",
   "execution_count": 4,
   "metadata": {},
   "outputs": [
    {
     "name": "stdout",
     "output_type": "stream",
     "text": [
      "Dados\n"
     ]
    }
   ],
   "source": [
    "print(expr[0:5])"
   ]
  },
  {
   "cell_type": "code",
   "execution_count": 11,
   "metadata": {},
   "outputs": [
    {
     "name": "stdout",
     "output_type": "stream",
     "text": [
      "/02/2\n"
     ]
    }
   ],
   "source": [
    "print(expr[(expr.find(\"/\")):(expr.find(\"/\")+5)])"
   ]
  },
  {
   "cell_type": "code",
   "execution_count": 27,
   "metadata": {},
   "outputs": [
    {
     "data": {
      "text/plain": [
       "82"
      ]
     },
     "execution_count": 27,
     "metadata": {},
     "output_type": "execute_result"
    }
   ],
   "source": [
    "print(expr[expr.find(\"2017\")+4:expr.find(\"2017\",expr.find(\"2017\")+1)-6])"
   ]
  },
  {
   "cell_type": "code",
   "execution_count": 36,
   "metadata": {},
   "outputs": [
    {
     "name": "stdout",
     "output_type": "stream",
     "text": [
      "3345.878.00\n"
     ]
    }
   ],
   "source": [
    "print(expr[expr.find('\"')+1:expr.find('\"',expr.find('\"')+1)])"
   ]
  },
  {
   "cell_type": "code",
   "execution_count": 76,
   "metadata": {},
   "outputs": [
    {
     "name": "stdout",
     "output_type": "stream",
     "text": [
      "62\n",
      "73\n"
     ]
    }
   ],
   "source": [
    "#Uma forma melhorada da busca:\n",
    "p='\"'\n",
    "p1=expr.find(p)+1\n",
    "p2=expr.find(p,p1+1)#depois da vírgula é a partir de qual posição, nesse exemplo, busca p a partir da posição p1+1\n",
    "print(p1)\n",
    "print(p2)"
   ]
  },
  {
   "cell_type": "code",
   "execution_count": 77,
   "metadata": {},
   "outputs": [
    {
     "name": "stdout",
     "output_type": "stream",
     "text": [
      "3345.878.00\n"
     ]
    }
   ],
   "source": [
    "print(expr[p1:p2])"
   ]
  },
  {
   "cell_type": "code",
   "execution_count": 78,
   "metadata": {},
   "outputs": [
    {
     "name": "stdout",
     "output_type": "stream",
     "text": [
      "62\n",
      "73\n"
     ]
    }
   ],
   "source": []
  },
  {
   "cell_type": "code",
   "execution_count": null,
   "metadata": {},
   "outputs": [],
   "source": []
  }
 ],
 "metadata": {
  "kernelspec": {
   "display_name": "Python 3",
   "language": "python",
   "name": "python3"
  },
  "language_info": {
   "codemirror_mode": {
    "name": "ipython",
    "version": 3
   },
   "file_extension": ".py",
   "mimetype": "text/x-python",
   "name": "python",
   "nbconvert_exporter": "python",
   "pygments_lexer": "ipython3",
   "version": "3.7.4"
  }
 },
 "nbformat": 4,
 "nbformat_minor": 2
}
